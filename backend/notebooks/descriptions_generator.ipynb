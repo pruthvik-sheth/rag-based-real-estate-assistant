{
 "cells": [
  {
   "cell_type": "code",
   "execution_count": 3,
   "metadata": {},
   "outputs": [
    {
     "name": "stdout",
     "output_type": "stream",
     "text": [
      "Why did the llama refuse to play poker?\n",
      "\n",
      "Because he always got fleeced! (get it?)\n"
     ]
    }
   ],
   "source": [
    "from langchain_community.llms import Ollama\n",
    "\n",
    "llm = Ollama(model=\"llama3.2:3b\")\n",
    "prompt = \"Tell me a joke about llama\"\n",
    "result = llm.invoke(prompt)\n",
    "print(result)\n",
    "# 'Why did the llama go to the party?\\n\\nBecause it was a hair-raising experience!'"
   ]
  },
  {
   "cell_type": "code",
   "execution_count": 4,
   "metadata": {},
   "outputs": [
    {
     "name": "stdout",
     "output_type": "stream",
     "text": [
      "Here is a full description of the property based on the provided features:\n",
      "\n",
      "**Property Details**\n",
      "\n",
      "This charming residence boasts a total of 3 spacious bedrooms, providing ample space for relaxation and personal retreats. The two bathrooms offer convenience and practicality, ensuring that every family member has their own private sanctuary.\n",
      "\n",
      "With a total living area of 1,500 square feet, this home offers a comfortable and inviting atmosphere. Built in 1990, the property has stood the test of time, offering a reliable foundation for years to come.\n",
      "\n",
      "The expansive 0.25-acre lot provides ample outdoor space for recreation, entertainment, or simply enjoying the fresh air. A two-car garage offers secure parking and storage for vehicles, bicycles, or other personal items.\n",
      "\n",
      "Inside, the home is warm and cozy, thanks to its central heating system. For those hot summer days, a comprehensive cooling system ensures that the interior remains cool and comfortable.\n",
      "\n",
      "Utilities are conveniently provided by the city, including water and sewer services, which eliminates the need for additional maintenance costs.\n",
      "\n",
      "The property's location within School District XYZ provides access to top-notch educational institutions, with ABC Elementary School serving as the primary feeder school. For middle school students, DEF is a nearby option, followed by GHI High School as the final destination.\n",
      "\n",
      "**Additional Features**\n",
      "\n",
      "- 2-car garage\n",
      "- Central heating\n",
      "- Central cooling\n",
      "- City water and sewer services\n",
      "- Expansive 0.25-acre lot size\n",
      "- 3 spacious bedrooms\n",
      "- 2 bathrooms\n",
      "- Total living area: 1,500 square feet\n",
      "- Built in 1990\n",
      "\n",
      "This property offers an excellent balance of comfort, convenience, and value, making it an attractive choice for those seeking a reliable and well-appointed residence.\n"
     ]
    }
   ],
   "source": [
    "prompt = \"\"\"Given the property features below could you please generate a full description: \\\n",
    "Bedroons: 3, Bathrooms: 2, Square Feet: 1,500, Year Built: 1990, Lot Size: 0.25 acres, \\\n",
    "Parking: 2-car garage, Heating: Central, Cooling: Central, Water: City, Sewer: City, \\\n",
    "School District: XYZ, Elementary School: ABC, Middle School: DEF, High School: GHI, \\    \n",
    "\"\"\"\n",
    "result = llm.invoke(prompt)\n",
    "print(result)"
   ]
  },
  {
   "cell_type": "code",
   "execution_count": 2,
   "metadata": {},
   "outputs": [
    {
     "name": "stdout",
     "output_type": "stream",
     "text": [
      "{'properties': [{'amenities': ['Ensuite', 'Ducted Cooling', 'Heating Hydronic', 'Hot Water Solar'], 'bathrooms': 2.0, 'bedrooms': 3.0, 'description': \"Step into this charming 3-bedroom unit in the heart of Eastgardens, NSW 2036. Built in 1990, this property boasts a spacious floor area of 320m², perfect for families or first-home buyers. Enjoy the comfort of ducted cooling and hydronic heating, while harnessing the benefits of solar hot water.\\n\\nAs you step inside, discover the serene feel of an ensuite bathroom, adding to the unit's sense of serenity. With a land size of 172m² and a short stroll from local amenities like walking trails, playgrounds, and taxi stands, this property offers the perfect balance of convenience and tranquility. Just minutes away lies the bustling train station, providing easy access to Sydney's city centre.\\n\\nWith its prime location and range of modern features, this property is poised for investors or homeowners seeking a hassle-free lifestyle. Don't miss out on this exceptional opportunity – schedule a viewing today!\", 'floor_area': '320', 'images': 'https://view.com.au/viewstatic/images/listing/4-bedroom-house-in-kelso-nsw-2795/1200-w/16177594-1-1F7F5E2.jpg', 'land_size': '172 m²', 'nearby_amenities': ['Walking Trails', 'Playground', 'Taxi Stand', 'Train Station'], 'postcode': '2036', 'price': 700000.0, 'property_id': '19557369', 'property_type': 'Unit', 'score': 0.804843128, 'state': 'NSW', 'street_address': '31/13 Oscar Place', 'suburb': 'Eastgardens', 'url': 'https://www.realestate.com.au/property/unit-31-13-oscar-pl-eastgardens-nsw-2036/', 'year_built': '1990.0'}, {'amenities': ['Rumpus Room', 'Courtyard', 'Hot Water Electric'], 'bathrooms': 2.0, 'bedrooms': 3.0, 'description': '\"Stunning opportunity to own a slice of suburban bliss in Dulwich Hill! This beautifully appointed unit boasts three spacious bedrooms, two bathrooms, and a delightful rumpus room perfect for kids (or kids at heart). Enjoy relaxing moments under the shaded courtyard or unwind after work with a hot water electric system.\\n\\nNestled in a prime location, this property is just steps from public transport links to the city via train station. Take advantage of nearby conveniences, including a bustling taxi stand, supermarket, and university access. For those seeking a tranquil retreat, Dulwich Hill\\'s tree-lined streets offer a serene atmosphere. With its unbeatable price point of $700,000, this unit offers a savvy investor or buyer an opportunity to own a piece of the perfect blend of urban convenience and peaceful living. Don\\'t miss out on this incredible value!\"', 'floor_area': '297', 'images': 'https://view.com.au/viewstatic/images/listing/3-bedroom-house-in-south-yarra-vic-3141/1200-w/15923653-1-F33DF5D.jpg', 'land_size': '100 m²', 'nearby_amenities': ['Taxi Stand', 'Supermarket', 'Train Station', 'University'], 'postcode': '2203', 'price': 700000.0, 'property_id': '2464960', 'property_type': 'Unit', 'score': 0.797204256, 'state': 'NSW', 'street_address': '82/3 Williams Parade', 'suburb': 'Dulwich Hill', 'url': 'https://www.realestate.com.au/property/unit-82-3-williams-pde-dulwich-hill-nsw-2203/', 'year_built': '1990.0'}, {'amenities': ['Hot Water Electric', 'Fully Fenced', 'Solar Panels', 'Ducted Cooling', 'Remote Garage', 'Hot Water Solar'], 'bathrooms': 2.0, 'bedrooms': 3.0, 'description': \"Welcome to this stunning 3-bedroom house in Riverstone NSW 2765! Set amidst a serene environment, this property boasts an impressive 300m² land size, making it perfect for those seeking space and tranquility. The beautifully maintained home features ducted cooling, solar panels, and remote garage, showcasing its modern amenities and energy-efficient systems.\\n\\nEnjoy the convenience of being fully fenced and having access to hot water electric and hot water solar systems, reducing your utility bills. With a total floor area of 444m², this spacious property offers ample room for relaxation and entertaining.\\n\\nSituated in a family-friendly neighborhood, you'll be just moments from the local playground and taxi stand, making it an ideal choice for families and commuters alike. Whether you're looking to invest in rental properties or create your dream home, this Riverstone house has everything you need to live comfortably and thrive.\", 'floor_area': '444', 'images': 'https://view.com.au/viewstatic/images/listing/4-bedroom-house-in-kelso-nsw-2795/1200-w/16177594-1-1F7F5E2.jpg', 'land_size': '300 m²', 'nearby_amenities': ['Playground', 'Taxi Stand'], 'postcode': '2765', 'price': 700000.0, 'property_id': '1441799', 'property_type': 'House', 'score': 0.789952099, 'state': 'NSW', 'street_address': '158 Riverstone Road', 'suburb': 'Riverstone', 'url': 'https://www.realestate.com.au/property/158-riverstone-rd-riverstone-nsw-2765/', 'year_built': '1990.0'}, {'amenities': ['Alarm System', 'Evaporative Cooling', 'Hot Water Electric', 'Heating Gas', 'Heating Electric', 'Hot Water Gas'], 'bathrooms': 2.0, 'bedrooms': 3.0, 'description': \"**Stunning 3 Bedroom Unit in Prime Carlton North Location**\\n\\nEscape to a tranquil retreat in the heart of vibrant Carlton North, where this beautifully presented unit offers the perfect blend of comfort and convenience. With three spacious bedrooms, two modern bathrooms, and an impressive 85m2 floor area, this property is ideal for families or professionals seeking a serene lifestyle.\\n\\nEnjoy the warmth of gas heating and hot water on cold winter mornings, while evaporative cooling keeps you cool during the warmer months. The unit also features state-of-the-art security with a fully functional alarm system.\\n\\nConveniently located just a stone's throw from local high school, supermarket, and shopping mall, this property offers the ultimate in convenience. With its unbeatable price point of $700,000, don't miss out on the opportunity to own a piece of Carlton North paradise. Schedule your viewing today!\", 'floor_area': '85', 'images': 'https://view.com.au/viewstatic/images/listing/5-bedroom-house-in-brighton-vic-3186/1200-w/16220786-2-0B62A6C.jpg', 'land_size': '125 m²', 'nearby_amenities': ['High School', 'Supermarket', 'Mall'], 'postcode': '3054', 'price': 700000.0, 'property_id': '4222456', 'property_type': 'Unit', 'score': 0.785017729, 'state': 'Vic', 'street_address': '446 Canning Street', 'suburb': 'Carlton North', 'url': 'https://www.realestate.com.au/property/446-canning-st-carlton-north-vic-3054/', 'year_built': '1990.0'}, {'amenities': ['Water Tank', 'Hot Water Solar', 'Heating Other', 'Workshop'], 'bathrooms': 2.0, 'bedrooms': 3.0, 'description': \"Welcome to this stunning three-bedroom house in the sought-after suburb of Gosnells, WA 6110. Built in 2008, this home boasts a spacious floor area of 466m², surrounded by 221m² of beautifully manicured land.\\n\\nInside, you'll find two modern bathrooms and a versatile workshop perfect for hobbyists or DIY enthusiasts. Enjoy the benefits of hot water solar heating, reducing your energy bills while maintaining a comfortable living space. A self-contained water tank ensures independence from the grid, adding to the home's eco-friendly appeal.\\n\\nJust steps away, the property is close to a taxi stand and playground, making it an ideal choice for families. Gosnells' proximity to Perth's CBD offers easy access to work, shopping, and entertainment options. With its unbeatable balance of space, sustainability, and convenience, this property is sure to impress. Don't miss your chance to make this home yours - schedule a viewing today!\", 'floor_area': '466', 'images': 'https://view.com.au/viewstatic/images/listing/5-bedroom-house-in-brighton-vic-3186/1200-w/16220786-2-0B62A6C.jpg', 'land_size': '221 m²', 'nearby_amenities': ['Taxi Stand', 'Playground'], 'postcode': '6110', 'price': 700000.0, 'property_id': '9664071', 'property_type': 'House', 'score': 0.781465113, 'state': 'WA', 'street_address': '2/17 Hartley Street', 'suburb': 'Gosnells', 'url': 'https://www.realestate.com.au/property/unit-2-17-hartley-st-gosnells-wa-6110/', 'year_built': '2008.0'}], 'response': \"I'd be happy to help you find a 3-bedroom house in Sydney! However, I must point out that three of the properties listed are actually units, not houses. Let me provide you with some information and recommendations based on the available options.\\n\\nIf you're looking for a 3-bedroom house in Sydney, here are a few options to consider:\\n\\n**Riverstone House**\\n\\nThe first option is a stunning 3-bedroom house located at 158 Riverstone Road, Riverstone NSW 2765. This property boasts an impressive 300m² land size and a spacious floor area of 444m². It features modern amenities such as ducted cooling, solar panels, and remote garage, showcasing its energy-efficient systems.\\n\\nThe nearby location to a playground and taxi stand makes it an ideal choice for families and commuters alike. With its unbeatable balance of space, sustainability, and convenience, this property is sure to impress.\\n\\n**Comparison to Units**\\n\\nWhile units in Eastgardens and Dulwich Hill are also available at similar price points ($700,000), the Riverstone house offers more land and a larger floor area. If you're looking for a home with more outdoor space, the Riverstone option might be worth considering.\\n\\n**Other Options**\\n\\nIf you're open to exploring other suburbs in Sydney, I'd recommend checking out Carlton North, where Property 4 is located. This unit offers a prime location close to high school, supermarket, and shopping mall, making it an excellent choice for families or professionals.\\n\\nGosnells, WA (if you're willing to consider another state!) also has some great options available. The 3-bedroom house at 2/17 Hartley Street is built in 2008 and features a spacious floor area of 466m². Its proximity to a taxi stand and playground makes it an ideal choice for families.\\n\\n**Prices and Value Propositions**\\n\\nAll the properties listed are priced at $700,000, which might seem like a lot. However, considering the land size, floor area, and modern amenities offered by each property, I believe they provide excellent value propositions.\\n\\nUltimately, the decision comes down to your personal preferences, budget, and lifestyle requirements. If you're looking for a house with more outdoor space and energy-efficient systems, the Riverstone option might be the way to go. If you prioritize convenience and proximity to amenities, Carlton North or Gosnells could be better suited for you.\\n\\nI hope this information helps you in your search for a 3-bedroom house in Sydney!\", 'success': True}\n"
     ]
    }
   ],
   "source": [
    "import requests\n",
    "\n",
    "# Example query\n",
    "response = requests.post('http://localhost:5000/api/query', \n",
    "    json={\n",
    "        'query': 'Show me 3-bedroom houses in Sydney',\n",
    "        'top_k': 5\n",
    "    }\n",
    ")\n",
    "\n",
    "print(response.json())"
   ]
  },
  {
   "cell_type": "code",
   "execution_count": 4,
   "metadata": {},
   "outputs": [
    {
     "name": "stdout",
     "output_type": "stream",
     "text": [
      "{'properties': [{'amenities': ['Ensuite', 'Ducted Cooling', 'Heating Hydronic', 'Hot Water Solar'], 'bathrooms': 2.0, 'bedrooms': 3.0, 'description': 'Step into this charming 3-bedroom unit in the heart of Eastgardens, NSW 2036...', 'floor_area': '320', 'images': 'https://view.com.au/viewstatic/images/listing/4-bedroom-house-in-kelso-nsw-2795/1200-w/16177594-1-1F7F5E2.jpg', 'land_size': '172 m²', 'nearby_amenities': ['Walking Trails', 'Playground', 'Taxi Stand', 'Train Station'], 'postcode': '2036', 'price': 700000.0, 'property_id': '19557369', 'property_type': 'Unit', 'score': 0.804843128, 'state': 'NSW', 'street_address': '31/13 Oscar Place', 'suburb': 'Eastgardens', 'url': 'https://www.realestate.com.au/property/unit-31-13-oscar-pl-eastgardens-nsw-2036/', 'year_built': '1990.0'}, {'amenities': ['Ensuite', 'Ducted Cooling', 'Heating Hydronic', 'Hot Water Solar'], 'bathrooms': 2.0, 'bedrooms': 3.0, 'description': 'Step into this charming 3-bedroom unit in the heart of Eastgardens, NSW 2036...', 'floor_area': '320', 'images': 'https://view.com.au/viewstatic/images/listing/4-bedroom-house-in-kelso-nsw-2795/1200-w/16177594-1-1F7F5E2.jpg', 'land_size': '450 m²', 'nearby_amenities': ['Walking Trails', 'Playground', 'Taxi Stand', 'Train Station'], 'postcode': '2204', 'price': 1200000.0, 'property_id': '19557371', 'property_type': 'House', 'score': 0.804843128, 'state': 'NSW', 'street_address': '42 Garden Street', 'suburb': 'Marrickville', 'url': 'https://www.realestate.com.au/property/unit-31-13-oscar-pl-eastgardens-nsw-2036/', 'year_built': '1990.0'}, {'amenities': ['Ensuite', 'Ducted Cooling', 'Heating Hydronic', 'Hot Water Solar', 'Smart Home System', 'EV Charging'], 'bathrooms': 2.0, 'bedrooms': 3.0, 'description': 'Step into this charming 3-bedroom unit in the heart of Eastgardens, NSW 2036...', 'floor_area': '320', 'images': 'https://view.com.au/viewstatic/images/listing/4-bedroom-house-in-kelso-nsw-2795/1200-w/16177594-1-1F7F5E2.jpg', 'land_size': '172 m²', 'nearby_amenities': ['Walking Trails', 'Playground', 'Taxi Stand', 'Train Station'], 'postcode': '2020', 'price': 950000.0, 'property_id': '19557372', 'property_type': 'Unit', 'score': 0.804843128, 'state': 'NSW', 'street_address': '8/10 Airport Drive', 'suburb': 'Mascot', 'url': 'https://www.realestate.com.au/property/unit-31-13-oscar-pl-eastgardens-nsw-2036/', 'year_built': '2020.0'}, {'amenities': ['Ensuite', 'Ducted Cooling', 'Heating Hydronic', 'Hot Water Solar'], 'bathrooms': 2.0, 'bedrooms': 3.0, 'description': 'Step into this charming 3-bedroom unit in the heart of Eastgardens, NSW 2036...', 'floor_area': '320', 'images': 'https://view.com.au/viewstatic/images/listing/4-bedroom-house-in-kelso-nsw-2795/1200-w/16177594-1-1F7F5E2.jpg', 'land_size': '172 m²', 'nearby_amenities': ['Walking Trails', 'Playground', 'Taxi Stand', 'Train Station'], 'postcode': '3056', 'price': 680000.0, 'property_id': '19557373', 'property_type': 'Unit', 'score': 0.804843128, 'state': 'VIC', 'street_address': '22 Sydney Road', 'suburb': 'Brunswick', 'url': 'https://www.realestate.com.au/property/unit-31-13-oscar-pl-eastgardens-nsw-2036/', 'year_built': '1990.0'}, {'amenities': ['Ensuite', 'Ducted Cooling', 'Heating Hydronic', 'Hot Water Solar'], 'bathrooms': 2.0, 'bedrooms': 3.0, 'description': 'Step into this charming 3-bedroom unit in the heart of Eastgardens, NSW 2036...', 'floor_area': '320', 'images': 'https://view.com.au/viewstatic/images/listing/4-bedroom-house-in-kelso-nsw-2795/1200-w/16177594-1-1F7F5E2.jpg', 'land_size': '172 m²', 'nearby_amenities': ['Walking Trails', 'Playground', 'Taxi Stand', 'Train Station'], 'postcode': '2026', 'price': 850000.0, 'property_id': '19557370', 'property_type': 'Unit', 'score': 0.804843128, 'state': 'NSW', 'street_address': '15 Beach Road', 'suburb': 'Bondi', 'url': 'https://www.realestate.com.au/property/unit-31-13-oscar-pl-eastgardens-nsw-2036/', 'year_built': '1990.0'}], 'response': \"I'd be happy to help you find properties matching '3BHK homes in Sydney'! I've found 5 properties that might interest you. These properties vary in type, location, and price range to give you a good overview of what's available in the market.\", 'success': True}\n"
     ]
    }
   ],
   "source": [
    "import requests\n",
    "\n",
    "response = requests.post('http://localhost:5000/api/properties', \n",
    "                        json={'query': '3BHK homes in Sydney'})\n",
    "print(response.json())"
   ]
  },
  {
   "cell_type": "code",
   "execution_count": null,
   "metadata": {},
   "outputs": [],
   "source": []
  }
 ],
 "metadata": {
  "kernelspec": {
   "display_name": ".venv",
   "language": "python",
   "name": "python3"
  },
  "language_info": {
   "codemirror_mode": {
    "name": "ipython",
    "version": 3
   },
   "file_extension": ".py",
   "mimetype": "text/x-python",
   "name": "python",
   "nbconvert_exporter": "python",
   "pygments_lexer": "ipython3",
   "version": "3.10.8"
  }
 },
 "nbformat": 4,
 "nbformat_minor": 2
}
